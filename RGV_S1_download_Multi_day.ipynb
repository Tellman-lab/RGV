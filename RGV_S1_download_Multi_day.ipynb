{
 "cells": [
  {
   "cell_type": "code",
   "execution_count": 1,
   "metadata": {},
   "outputs": [
    {
     "data": {
      "text/html": [
       "<p>To authorize access needed by Earth Engine, open the following\n",
       "        URL in a web browser and follow the instructions:</p>\n",
       "        <p><a href=https://code.earthengine.google.com/client-auth?scopes=https%3A//www.googleapis.com/auth/earthengine%20https%3A//www.googleapis.com/auth/cloud-platform%20https%3A//www.googleapis.com/auth/devstorage.full_control&request_id=bpHyvjyS3CSu15qbOueZq5Nbp-7EODF4QWYD2NRK0XQ&tc=wboQzWvsqQAhegpuyc5QNfs1e47bmZXleBQF300LMWY&cc=3BAle_hqzSKmHbABT9g6QUzP869PW2MSt4NqJlMHYxs>https://code.earthengine.google.com/client-auth?scopes=https%3A//www.googleapis.com/auth/earthengine%20https%3A//www.googleapis.com/auth/cloud-platform%20https%3A//www.googleapis.com/auth/devstorage.full_control&request_id=bpHyvjyS3CSu15qbOueZq5Nbp-7EODF4QWYD2NRK0XQ&tc=wboQzWvsqQAhegpuyc5QNfs1e47bmZXleBQF300LMWY&cc=3BAle_hqzSKmHbABT9g6QUzP869PW2MSt4NqJlMHYxs</a></p>\n",
       "        <p>The authorization workflow will generate a code, which you should paste in the box below.</p>\n",
       "        "
      ],
      "text/plain": [
       "<IPython.core.display.HTML object>"
      ]
     },
     "metadata": {},
     "output_type": "display_data"
    },
    {
     "name": "stdout",
     "output_type": "stream",
     "text": [
      "\n",
      "Successfully saved authorization token.\n"
     ]
    }
   ],
   "source": [
    "import ee\n",
    "ee.Authenticate()"
   ]
  },
  {
   "cell_type": "code",
   "execution_count": 2,
   "metadata": {},
   "outputs": [],
   "source": [
    "ee.Initialize()\n",
    "import geemap\n",
    "import json\n",
    "import os\n",
    "import requests\n",
    "from geemap import geojson_to_ee, ee_to_geojson\n",
    "from ipyleaflet import GeoJSON\n",
    "import geopandas as gpd"
   ]
  },
  {
   "cell_type": "code",
   "execution_count": 3,
   "metadata": {},
   "outputs": [
    {
     "data": {
      "text/html": [
       "\n",
       "            <style>\n",
       "                .geemap-dark {\n",
       "                    --jp-widgets-color: white;\n",
       "                    --jp-widgets-label-color: white;\n",
       "                    --jp-ui-font-color1: white;\n",
       "                    --jp-layout-color2: #454545;\n",
       "                    background-color: #383838;\n",
       "                }\n",
       "\n",
       "                .geemap-dark .jupyter-button {\n",
       "                    --jp-layout-color3: #383838;\n",
       "                }\n",
       "\n",
       "                .geemap-colab {\n",
       "                    background-color: var(--colab-primary-surface-color, white);\n",
       "                }\n",
       "\n",
       "                .geemap-colab .jupyter-button {\n",
       "                    --jp-layout-color3: var(--colab-primary-surface-color, white);\n",
       "                }\n",
       "            </style>\n",
       "            "
      ],
      "text/plain": [
       "<IPython.core.display.HTML object>"
      ]
     },
     "metadata": {},
     "output_type": "display_data"
    }
   ],
   "source": [
    "addevent_can = r\"C:\\FLUJOS_Local\\shapefiles_csdap\\Impact_Nebraska_dissolved.shp\" #''2019-04-22', '2019-05-05''\n"
   ]
  },
  {
   "attachments": {},
   "cell_type": "markdown",
   "metadata": {},
   "source": [
    "# This code downloads S2 images by event's different dates, same day imgs are mosaic together\n",
    "Also displays the last img downloaded(for reference how to display on map)"
   ]
  },
  {
   "cell_type": "code",
   "execution_count": 5,
   "metadata": {},
   "outputs": [
    {
     "data": {
      "text/html": [
       "\n",
       "            <style>\n",
       "                .geemap-dark {\n",
       "                    --jp-widgets-color: white;\n",
       "                    --jp-widgets-label-color: white;\n",
       "                    --jp-ui-font-color1: white;\n",
       "                    --jp-layout-color2: #454545;\n",
       "                    background-color: #383838;\n",
       "                }\n",
       "\n",
       "                .geemap-dark .jupyter-button {\n",
       "                    --jp-layout-color3: #383838;\n",
       "                }\n",
       "\n",
       "                .geemap-colab {\n",
       "                    background-color: var(--colab-primary-surface-color, white);\n",
       "                }\n",
       "\n",
       "                .geemap-colab .jupyter-button {\n",
       "                    --jp-layout-color3: var(--colab-primary-surface-color, white);\n",
       "                }\n",
       "            </style>\n",
       "            "
      ],
      "text/plain": [
       "<IPython.core.display.HTML object>"
      ]
     },
     "metadata": {},
     "output_type": "display_data"
    },
    {
     "name": "stdout",
     "output_type": "stream",
     "text": [
      "Dates with images in the collection: ['2022-10-31', '2022-10-31', '2022-10-31', '2022-10-31', '2022-10-31', '2022-10-31', '2022-10-31', '2022-10-31', '2022-10-31', '2022-10-31', '2022-11-03', '2022-11-03', '2022-11-03', '2022-11-03', '2022-11-03', '2022-11-03', '2022-11-03', '2022-11-05', '2022-11-05', '2022-11-05', '2022-11-05', '2022-11-05', '2022-11-05', '2022-11-05', '2022-11-05', '2022-11-05', '2022-11-05', '2022-11-08', '2022-11-08', '2022-11-08', '2022-11-08', '2022-11-08', '2022-11-08', '2022-11-08', '2022-11-10', '2022-11-10', '2022-11-10', '2022-11-10', '2022-11-10', '2022-11-10', '2022-11-10', '2022-11-10', '2022-11-10', '2022-11-10', '2022-11-13', '2022-11-13', '2022-11-13', '2022-11-13', '2022-11-13', '2022-11-13', '2022-11-13']\n",
      "['2022-11-08', '2022-11-13', '2022-11-03', '2022-11-05', '2022-10-31', '2022-11-10']\n",
      "2022-11-08\n",
      "['COPERNICUS/S2_SR_HARMONIZED/20221108T172529_20221108T173019_T14TPK', 'COPERNICUS/S2_SR_HARMONIZED/20221108T172529_20221108T173019_T14TPL', 'COPERNICUS/S2_SR_HARMONIZED/20221108T172529_20221108T173019_T14TPM', 'COPERNICUS/S2_SR_HARMONIZED/20221108T172529_20221108T173019_T14TQL', 'COPERNICUS/S2_SR_HARMONIZED/20221108T172529_20221108T173019_T14TQM', 'COPERNICUS/S2_SR_HARMONIZED/20221108T172529_20221108T173019_T15TTF', 'COPERNICUS/S2_SR_HARMONIZED/20221108T172529_20221108T173019_T15TTG']\n"
     ]
    },
    {
     "name": "stderr",
     "output_type": "stream",
     "text": [
      "Consider adjusting `region`, `scale` and/or `dtype` to reduce the 2022-11-08.tif download size (raw: 9.92 GB).\n"
     ]
    },
    {
     "data": {
      "application/vnd.jupyter.widget-view+json": {
       "model_id": "e44d78fd08d34dbba5751d834ef5b880",
       "version_major": 2,
       "version_minor": 0
      },
      "text/plain": [
       "2022-11-08.tif: |          | 0.00/9.92G (raw) [  0.0%] in 00:00 (eta:     ?)"
      ]
     },
     "metadata": {},
     "output_type": "display_data"
    }
   ],
   "source": [
    "\n",
    "\n",
    "scene_name = 'addevent_can'  # Replace with your scene name\n",
    "scene = addevent_can  # Replace with the path to your shapefile\n",
    "\n",
    "scene_geemap = geemap.shp_to_ee(scene).geometry()\n",
    "\n",
    "collection_S2 = (\n",
    "    ee.ImageCollection(\"COPERNICUS/S1_GRD\")\n",
    "    .filterBounds(scene_geemap)\n",
    "    .filterDate('2022-10-31', '2022-11-15')\n",
    ")\n",
    "def get_date(image):\n",
    "    return ee.Date(image.get('system:time_start')).format('YYYY-MM-dd')\n",
    "\n",
    "\n",
    "dates_list = collection_S2.map(lambda img: img.set('date', get_date(img))).aggregate_array('date').getInfo()\n",
    "distinct_dates = set(dates_list)\n",
    "distinct_dates = list(distinct_dates)\n",
    "\n",
    "print(\"Dates with images in the collection:\", dates_list)\n",
    "print(distinct_dates)\n",
    "\n",
    "for date in distinct_dates:\n",
    "    print(date)\n",
    "    # Filter the ImageCollection based on the current date\n",
    "    \n",
    "    images_same_date = collection_S2.filterDate(date, ee.Date(date).advance(1, 'day'))\n",
    "    print(images_same_date.aggregate_array('system:id').getInfo())\n",
    "    \n",
    "    bands = ['VV', 'VH']\n",
    "    # # Mosaic the images from the same date\n",
    "    mosaic_S2 = images_same_date.mosaic().select(bands)\n",
    "    # # user_input = input(\"Press Enter to continue...\")\n",
    "    \n",
    "    folder = r\"C:\\FLUJOS_Local\\s_1\\\\\" + scene_name + \"\\\\\" + date\n",
    "    if not os.path.exists(folder): os.makedirs(folder)\n",
    "    \n",
    "\n",
    "    # file_path = folder + \"\\\\\" + mosaic_S2.aggregate_array('system:id').getInfo()[0].split('/')[-2] + '_' + mosaic_S2.aggregate_array('system:id').getInfo()[0].split('/')[-1]+\".tif\"\n",
    "    file_path = folder + \"\\\\\" + date +\".tif\"\n",
    "    geemap.download_ee_image(mosaic_S2, file_path, region= scene_geemap, crs=\"EPSG:4326\", scale=10)\n",
    "    print(\"------------------\")\n",
    "    \n",
    "    \n"
   ]
  },
  {
   "cell_type": "code",
   "execution_count": 6,
   "metadata": {},
   "outputs": [
    {
     "data": {
      "application/vnd.jupyter.widget-view+json": {
       "model_id": "a7e1e7158975467db425021de9400821",
       "version_major": 2,
       "version_minor": 0
      },
      "text/plain": [
       "Map(center=[46.25347769503688, -72.7400196125835], controls=(WidgetControl(options=['position', 'transparent_b…"
      ]
     },
     "metadata": {},
     "output_type": "display_data"
    }
   ],
   "source": [
    "gdf = gpd.read_file(scene)\n",
    "bbox = gdf.total_bounds\n",
    "center_lat = (bbox[1] + bbox[3]) / 2\n",
    "center_lng = (bbox[0] + bbox[2]) / 2\n",
    "vis_params = {\n",
    "    'bands': ['B4', 'B3', 'B2'],\n",
    "    'min': 0,\n",
    "    'max': 3000,\n",
    "    'gamma': 1.0\n",
    "}\n",
    "Map = geemap.Map()\n",
    "\n",
    "# Add the image and shapefile to the map\n",
    "Map.addLayer(mosaic_S2, vis_params, 'First Image')\n",
    "# Map.addLayer(ee_object, {}, 'Shapefile')\n",
    "\n",
    "# Set the map center and zoom level according to the shapefile\n",
    "Map.setCenter(center_lng, center_lat, 10)\n",
    "\n",
    "# Display the map\n",
    "Map"
   ]
  }
 ],
 "metadata": {
  "kernelspec": {
   "display_name": "Python 3.10.6 ('ee')",
   "language": "python",
   "name": "python3"
  },
  "language_info": {
   "codemirror_mode": {
    "name": "ipython",
    "version": 3
   },
   "file_extension": ".py",
   "mimetype": "text/x-python",
   "name": "python",
   "nbconvert_exporter": "python",
   "pygments_lexer": "ipython3",
   "version": "3.11.9"
  },
  "orig_nbformat": 4,
  "vscode": {
   "interpreter": {
    "hash": "70537e1121c5090b7a183958edf27752349f39572b0878a619bbad1e2af8ad68"
   }
  }
 },
 "nbformat": 4,
 "nbformat_minor": 2
}
